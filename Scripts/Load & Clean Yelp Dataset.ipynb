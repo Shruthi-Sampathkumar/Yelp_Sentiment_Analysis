{
 "cells": [
  {
   "cell_type": "code",
   "execution_count": 1,
   "metadata": {
    "collapsed": true
   },
   "outputs": [],
   "source": [
    "import json\n",
    "import csv\n",
    "import pandas as pd\n",
    "import matplotlib.pyplot as plt"
   ]
  },
  {
   "cell_type": "markdown",
   "metadata": {},
   "source": [
    "# load review data"
   ]
  },
  {
   "cell_type": "code",
   "execution_count": 2,
   "metadata": {
    "collapsed": true
   },
   "outputs": [],
   "source": [
    "data = []\n",
    "with open('review.json') as f:\n",
    "    for line in f:\n",
    "        data.append(json.loads(line))"
   ]
  },
  {
   "cell_type": "code",
   "execution_count": 3,
   "metadata": {},
   "outputs": [
    {
     "data": {
      "text/plain": [
       "4736897"
      ]
     },
     "execution_count": 3,
     "metadata": {},
     "output_type": "execute_result"
    }
   ],
   "source": [
    "len(data)   # 4736897 reviews"
   ]
  },
  {
   "cell_type": "code",
   "execution_count": 4,
   "metadata": {},
   "outputs": [
    {
     "data": {
      "text/plain": [
       "{'business_id': 'uYHaNptLzDLoV_JZ_MuzUA',\n",
       " 'cool': 0,\n",
       " 'date': '2016-07-12',\n",
       " 'funny': 0,\n",
       " 'review_id': 'VfBHSwC5Vz_pbFluy07i9Q',\n",
       " 'stars': 5,\n",
       " 'text': 'My girlfriend and I stayed here for 3 nights and loved it. The location of this hotel and very decent price makes this an amazing deal. When you walk out the front door Scott Monument and Princes street are right in front of you, Edinburgh Castle and the Royal Mile is a 2 minute walk via a close right around the corner, and there are so many hidden gems nearby including Calton Hill and the newly opened Arches that made this location incredible.\\n\\nThe hotel itself was also very nice with a reasonably priced bar, very considerate staff, and small but comfortable rooms with excellent bathrooms and showers. Only two minor complaints are no telephones in room for room service (not a huge deal for us) and no AC in the room, but they have huge windows which can be fully opened. The staff were incredible though, letting us borrow umbrellas for the rain, giving us maps and directions, and also when we had lost our only UK adapter for charging our phones gave us a very fancy one for free.\\n\\nI would highly recommend this hotel to friends, and when I return to Edinburgh (which I most definitely will) I will be staying here without any hesitation.',\n",
       " 'useful': 0,\n",
       " 'user_id': 'cjpdDjZyprfyDG3RlkVG3w'}"
      ]
     },
     "execution_count": 4,
     "metadata": {},
     "output_type": "execute_result"
    }
   ],
   "source": [
    "data[0]"
   ]
  },
  {
   "cell_type": "code",
   "execution_count": 5,
   "metadata": {
    "collapsed": true
   },
   "outputs": [],
   "source": [
    "reviewid = []\n",
    "businessid= []\n",
    "userid = []\n",
    "stars = []\n",
    "text = []\n",
    "date = []\n",
    "\n",
    "for entry in range(0, len(data)):     \n",
    "    reviewid.append(data[entry]['review_id'])\n",
    "    businessid.append(data[entry]['business_id'])\n",
    "    userid.append(data[entry]['user_id'])\n",
    "    stars.append(data[entry]['stars'])\n",
    "    text.append(data[entry]['text'])\n",
    "    date.append(data[entry]['date'])"
   ]
  },
  {
   "cell_type": "code",
   "execution_count": 5,
   "metadata": {
    "collapsed": true
   },
   "outputs": [],
   "source": [
    "data = {'review_id':reviewid,'business_id':businessid,'user_id':userid,'stars':stars,'text':text,'date':date}\n",
    "review_data  = pd.DataFrame(data)"
   ]
  },
  {
   "cell_type": "code",
   "execution_count": 6,
   "metadata": {},
   "outputs": [
    {
     "data": {
      "text/html": [
       "<div>\n",
       "<style>\n",
       "    .dataframe thead tr:only-child th {\n",
       "        text-align: right;\n",
       "    }\n",
       "\n",
       "    .dataframe thead th {\n",
       "        text-align: left;\n",
       "    }\n",
       "\n",
       "    .dataframe tbody tr th {\n",
       "        vertical-align: top;\n",
       "    }\n",
       "</style>\n",
       "<table border=\"1\" class=\"dataframe\">\n",
       "  <thead>\n",
       "    <tr style=\"text-align: right;\">\n",
       "      <th></th>\n",
       "      <th>business_id</th>\n",
       "      <th>date</th>\n",
       "      <th>review_id</th>\n",
       "      <th>stars</th>\n",
       "      <th>text</th>\n",
       "      <th>user_id</th>\n",
       "    </tr>\n",
       "  </thead>\n",
       "  <tbody>\n",
       "    <tr>\n",
       "      <th>0</th>\n",
       "      <td>uYHaNptLzDLoV_JZ_MuzUA</td>\n",
       "      <td>2016-07-12</td>\n",
       "      <td>VfBHSwC5Vz_pbFluy07i9Q</td>\n",
       "      <td>5</td>\n",
       "      <td>My girlfriend and I stayed here for 3 nights a...</td>\n",
       "      <td>cjpdDjZyprfyDG3RlkVG3w</td>\n",
       "    </tr>\n",
       "    <tr>\n",
       "      <th>1</th>\n",
       "      <td>uYHaNptLzDLoV_JZ_MuzUA</td>\n",
       "      <td>2016-10-02</td>\n",
       "      <td>3zRpneRKDsOPq92tq7ybAA</td>\n",
       "      <td>3</td>\n",
       "      <td>If you need an inexpensive place to stay for a...</td>\n",
       "      <td>bjTcT8Ty4cJZhEOEo01FGA</td>\n",
       "    </tr>\n",
       "    <tr>\n",
       "      <th>2</th>\n",
       "      <td>uYHaNptLzDLoV_JZ_MuzUA</td>\n",
       "      <td>2015-09-17</td>\n",
       "      <td>ne5WhI1jUFOcRn-b-gAzHA</td>\n",
       "      <td>3</td>\n",
       "      <td>Mittlerweile gibt es in Edinburgh zwei Ableger...</td>\n",
       "      <td>AXgRULmWcME7J6Ix3I--ww</td>\n",
       "    </tr>\n",
       "    <tr>\n",
       "      <th>3</th>\n",
       "      <td>uYHaNptLzDLoV_JZ_MuzUA</td>\n",
       "      <td>2016-08-21</td>\n",
       "      <td>llmdwOgDReucVoWEry61Lw</td>\n",
       "      <td>4</td>\n",
       "      <td>Location is everything and this hotel has it! ...</td>\n",
       "      <td>oU2SSOmsp_A8JYI7Z2JJ5w</td>\n",
       "    </tr>\n",
       "    <tr>\n",
       "      <th>4</th>\n",
       "      <td>uYHaNptLzDLoV_JZ_MuzUA</td>\n",
       "      <td>2013-11-20</td>\n",
       "      <td>DuffS87NaSMDmIfluvT83g</td>\n",
       "      <td>5</td>\n",
       "      <td>gute lage im stadtzentrum. shoppingmeile und s...</td>\n",
       "      <td>0xtbPEna2Kei11vsU-U2Mw</td>\n",
       "    </tr>\n",
       "  </tbody>\n",
       "</table>\n",
       "</div>"
      ],
      "text/plain": [
       "              business_id        date               review_id  stars  \\\n",
       "0  uYHaNptLzDLoV_JZ_MuzUA  2016-07-12  VfBHSwC5Vz_pbFluy07i9Q      5   \n",
       "1  uYHaNptLzDLoV_JZ_MuzUA  2016-10-02  3zRpneRKDsOPq92tq7ybAA      3   \n",
       "2  uYHaNptLzDLoV_JZ_MuzUA  2015-09-17  ne5WhI1jUFOcRn-b-gAzHA      3   \n",
       "3  uYHaNptLzDLoV_JZ_MuzUA  2016-08-21  llmdwOgDReucVoWEry61Lw      4   \n",
       "4  uYHaNptLzDLoV_JZ_MuzUA  2013-11-20  DuffS87NaSMDmIfluvT83g      5   \n",
       "\n",
       "                                                text                 user_id  \n",
       "0  My girlfriend and I stayed here for 3 nights a...  cjpdDjZyprfyDG3RlkVG3w  \n",
       "1  If you need an inexpensive place to stay for a...  bjTcT8Ty4cJZhEOEo01FGA  \n",
       "2  Mittlerweile gibt es in Edinburgh zwei Ableger...  AXgRULmWcME7J6Ix3I--ww  \n",
       "3  Location is everything and this hotel has it! ...  oU2SSOmsp_A8JYI7Z2JJ5w  \n",
       "4  gute lage im stadtzentrum. shoppingmeile und s...  0xtbPEna2Kei11vsU-U2Mw  "
      ]
     },
     "execution_count": 6,
     "metadata": {},
     "output_type": "execute_result"
    }
   ],
   "source": [
    "review_data.head()"
   ]
  },
  {
   "cell_type": "code",
   "execution_count": 7,
   "metadata": {
    "collapsed": true
   },
   "outputs": [],
   "source": [
    "review_data.to_csv('review_data.csv')   # save to csv"
   ]
  },
  {
   "cell_type": "markdown",
   "metadata": {},
   "source": [
    "#  load business data"
   ]
  },
  {
   "cell_type": "code",
   "execution_count": 6,
   "metadata": {},
   "outputs": [
    {
     "data": {
      "text/plain": [
       "156639"
      ]
     },
     "execution_count": 6,
     "metadata": {},
     "output_type": "execute_result"
    }
   ],
   "source": [
    "data2 = []\n",
    "with open('business.json') as f:\n",
    "    for line in f:\n",
    "        data2.append(json.loads(line))\n",
    "len(data2)  # 156639 business"
   ]
  },
  {
   "cell_type": "code",
   "execution_count": 7,
   "metadata": {
    "collapsed": true
   },
   "outputs": [],
   "source": [
    "business_id = []\n",
    "city = []\n",
    "state = []\n",
    "stars = []\n",
    "review_count = []\n",
    "categories = []\n",
    "postal_code = []\n",
    "latitude = []\n",
    "longitude = []\n",
    "pricerange = []\n",
    "is_open = []\n",
    "name = []\n",
    "\n",
    "\n",
    "for entry in range(0, len(data2)): \n",
    "    if \"Restaurants\" in data2[entry][\"categories\"]:\n",
    "        business_id.append(data2[entry]['business_id'])\n",
    "        name.append(data2[entry]['name'])\n",
    "        city.append(data2[entry]['city'])\n",
    "        state.append(data2[entry]['state'])\n",
    "        stars.append(data2[entry]['stars'])\n",
    "        postal_code.append(data2[entry]['postal_code'])\n",
    "        review_count.append(data2[entry]['review_count'])\n",
    "        categories.append(data2[entry]['categories'])\n",
    "        latitude.append(data2[entry]['latitude'])\n",
    "        longitude.append(data2[entry]['longitude'])\n",
    "        is_open.append(data2[entry]['is_open'])\n",
    "        if 'RestaurantsPriceRange2'in data2[entry]['attributes']:\n",
    "            pricerange.append(data2[entry]['attributes']['RestaurantsPriceRange2'])\n",
    "        else:\n",
    "            pricerange.append(0)\n"
   ]
  },
  {
   "cell_type": "code",
   "execution_count": 8,
   "metadata": {
    "collapsed": true
   },
   "outputs": [],
   "source": [
    "data2 = {'business_id ':business_id,'name':name,'city':city,'state':state,'stars':stars,'review_count':review_count,\n",
    "        'categories':categories,'latitude':latitude,'longitude':longitude,'is_open':is_open,\n",
    "        'pricerange':pricerange,'postal_code':postal_code}\n",
    "business_data  = pd.DataFrame(data2)"
   ]
  },
  {
   "cell_type": "markdown",
   "metadata": {},
   "source": [
    "# clean business data keep only is_open = 1 in six states"
   ]
  },
  {
   "cell_type": "code",
   "execution_count": 9,
   "metadata": {
    "collapsed": true
   },
   "outputs": [],
   "source": [
    "IL = business_data[business_data['state']=='IL']   # PA NV NC IL OH AZ only keep these 6 states \n",
    "PA = business_data[business_data['state']=='PA'] \n",
    "NV = business_data[business_data['state']=='NV']\n",
    "NC = business_data[business_data['state']=='NC']\n",
    "OH = business_data[business_data['state']=='OH']\n",
    "AZ = business_data[business_data['state']=='AZ']\n",
    "frame = [IL,PA,NV,NC,OH,AZ]\n",
    "business_info = pd.concat(frame)"
   ]
  },
  {
   "cell_type": "code",
   "execution_count": 11,
   "metadata": {
    "collapsed": true
   },
   "outputs": [],
   "source": [
    "business = business_info[business_info['is_open']==1]   # only keep restaurants that are open\n",
    "business.to_csv('business_data.csv')   # save to csv"
   ]
  },
  {
   "cell_type": "code",
   "execution_count": 23,
   "metadata": {},
   "outputs": [
    {
     "data": {
      "text/plain": [
       "21380"
      ]
     },
     "execution_count": 23,
     "metadata": {},
     "output_type": "execute_result"
    }
   ],
   "source": [
    "df = pd.read_csv('business_data.csv')\n",
    "len(df)"
   ]
  },
  {
   "cell_type": "markdown",
   "metadata": {},
   "source": [
    "# Clean review: keep reviews for restaurants in cleaned business dataset"
   ]
  },
  {
   "cell_type": "code",
   "execution_count": null,
   "metadata": {
    "collapsed": true
   },
   "outputs": [],
   "source": [
    "# Create review_subset\n",
    "\n",
    "df = pd.read_csv('business_data.csv')\n",
    "df.head()\n",
    "\n",
    "df2 = pd.read_csv('review_data.csv')\n",
    "\n",
    "df['key'] = df.iloc[:,1]\n",
    "review = df2[df2['business_id'].isin(df['key'])]  # only keep reviews for restaurants in business_data.csv\n",
    "review = review.reset_index().iloc[:,2:]"
   ]
  },
  {
   "cell_type": "code",
   "execution_count": null,
   "metadata": {
    "collapsed": true
   },
   "outputs": [],
   "source": [
    "review.to_csv('review_subset.csv',index = False)  # save to csv"
   ]
  },
  {
   "cell_type": "markdown",
   "metadata": {},
   "source": [
    "# Load user data"
   ]
  },
  {
   "cell_type": "code",
   "execution_count": 172,
   "metadata": {},
   "outputs": [
    {
     "data": {
      "text/plain": [
       "1183362"
      ]
     },
     "execution_count": 172,
     "metadata": {},
     "output_type": "execute_result"
    }
   ],
   "source": [
    "data3 = []\n",
    "with open('user.json') as f:\n",
    "    for line in f:\n",
    "        data3.append(json.loads(line))\n",
    "len(data3)    # 1183362 users"
   ]
  },
  {
   "cell_type": "code",
   "execution_count": 177,
   "metadata": {
    "collapsed": true
   },
   "outputs": [],
   "source": [
    "userid = []\n",
    "average_stars= []\n",
    "review_count = []\n",
    "yelping_since = []\n",
    "\n",
    "for entry in range(0, len(data3)):     \n",
    "    userid.append(data3[entry]['user_id'])\n",
    "    average_stars.append(data3[entry]['average_stars'])\n",
    "    review_count.append(data3[entry]['review_count'])\n",
    "    yelping_since.append(data3[entry]['yelping_since'])\n",
    "    \n"
   ]
  },
  {
   "cell_type": "code",
   "execution_count": 180,
   "metadata": {
    "collapsed": true
   },
   "outputs": [],
   "source": [
    "data3 = {'user_id':userid ,'average_stars':average_stars,'review_count':review_count,'yelping_since':yelping_since,'review_count':review_count}\n",
    "user_data  = pd.DataFrame(data3)"
   ]
  },
  {
   "cell_type": "code",
   "execution_count": 182,
   "metadata": {},
   "outputs": [
    {
     "data": {
      "text/html": [
       "<div>\n",
       "<style>\n",
       "    .dataframe thead tr:only-child th {\n",
       "        text-align: right;\n",
       "    }\n",
       "\n",
       "    .dataframe thead th {\n",
       "        text-align: left;\n",
       "    }\n",
       "\n",
       "    .dataframe tbody tr th {\n",
       "        vertical-align: top;\n",
       "    }\n",
       "</style>\n",
       "<table border=\"1\" class=\"dataframe\">\n",
       "  <thead>\n",
       "    <tr style=\"text-align: right;\">\n",
       "      <th></th>\n",
       "      <th>average_stars</th>\n",
       "      <th>review_count</th>\n",
       "      <th>user_id</th>\n",
       "      <th>yelping_since</th>\n",
       "    </tr>\n",
       "  </thead>\n",
       "  <tbody>\n",
       "    <tr>\n",
       "      <th>0</th>\n",
       "      <td>3.80</td>\n",
       "      <td>272</td>\n",
       "      <td>lsSiIjAKVl-QRxKjRErBeg</td>\n",
       "      <td>2010-07-13</td>\n",
       "    </tr>\n",
       "    <tr>\n",
       "      <th>1</th>\n",
       "      <td>3.94</td>\n",
       "      <td>2559</td>\n",
       "      <td>om5ZiponkpRqUNa3pVPiRg</td>\n",
       "      <td>2006-01-18</td>\n",
       "    </tr>\n",
       "    <tr>\n",
       "      <th>2</th>\n",
       "      <td>4.72</td>\n",
       "      <td>277</td>\n",
       "      <td>-lGwMGHMC_XihFJNKCJNRg</td>\n",
       "      <td>2014-10-31</td>\n",
       "    </tr>\n",
       "    <tr>\n",
       "      <th>3</th>\n",
       "      <td>3.76</td>\n",
       "      <td>436</td>\n",
       "      <td>D-ydMTPGWXTVm4_jjp0k9g</td>\n",
       "      <td>2013-04-01</td>\n",
       "    </tr>\n",
       "    <tr>\n",
       "      <th>4</th>\n",
       "      <td>4.23</td>\n",
       "      <td>921</td>\n",
       "      <td>PcvbBOCOcs6_suRDH7TSTg</td>\n",
       "      <td>2012-08-16</td>\n",
       "    </tr>\n",
       "    <tr>\n",
       "      <th>5</th>\n",
       "      <td>5.00</td>\n",
       "      <td>22</td>\n",
       "      <td>uXjR2GhCAYhqxVr21aC4vQ</td>\n",
       "      <td>2011-10-14</td>\n",
       "    </tr>\n",
       "    <tr>\n",
       "      <th>6</th>\n",
       "      <td>4.40</td>\n",
       "      <td>91</td>\n",
       "      <td>N2arP_u4sMGLgOZhA6ZFoQ</td>\n",
       "      <td>2013-12-20</td>\n",
       "    </tr>\n",
       "    <tr>\n",
       "      <th>7</th>\n",
       "      <td>4.06</td>\n",
       "      <td>68</td>\n",
       "      <td>YHJIMK_zVH_VY6HCY6bYvg</td>\n",
       "      <td>2012-06-08</td>\n",
       "    </tr>\n",
       "    <tr>\n",
       "      <th>8</th>\n",
       "      <td>3.63</td>\n",
       "      <td>184</td>\n",
       "      <td>g3V76Ja0XgWS1rqx0gxL_A</td>\n",
       "      <td>2007-09-11</td>\n",
       "    </tr>\n",
       "    <tr>\n",
       "      <th>9</th>\n",
       "      <td>4.19</td>\n",
       "      <td>48</td>\n",
       "      <td>VTL4Dep5p7XrrOtgnXdEIQ</td>\n",
       "      <td>2010-04-25</td>\n",
       "    </tr>\n",
       "  </tbody>\n",
       "</table>\n",
       "</div>"
      ],
      "text/plain": [
       "   average_stars  review_count                 user_id yelping_since\n",
       "0           3.80           272  lsSiIjAKVl-QRxKjRErBeg    2010-07-13\n",
       "1           3.94          2559  om5ZiponkpRqUNa3pVPiRg    2006-01-18\n",
       "2           4.72           277  -lGwMGHMC_XihFJNKCJNRg    2014-10-31\n",
       "3           3.76           436  D-ydMTPGWXTVm4_jjp0k9g    2013-04-01\n",
       "4           4.23           921  PcvbBOCOcs6_suRDH7TSTg    2012-08-16\n",
       "5           5.00            22  uXjR2GhCAYhqxVr21aC4vQ    2011-10-14\n",
       "6           4.40            91  N2arP_u4sMGLgOZhA6ZFoQ    2013-12-20\n",
       "7           4.06            68  YHJIMK_zVH_VY6HCY6bYvg    2012-06-08\n",
       "8           3.63           184  g3V76Ja0XgWS1rqx0gxL_A    2007-09-11\n",
       "9           4.19            48  VTL4Dep5p7XrrOtgnXdEIQ    2010-04-25"
      ]
     },
     "execution_count": 182,
     "metadata": {},
     "output_type": "execute_result"
    }
   ],
   "source": [
    "user_data.head(10)"
   ]
  }
 ],
 "metadata": {
  "kernelspec": {
   "display_name": "Python 3",
   "language": "python",
   "name": "python3"
  },
  "language_info": {
   "codemirror_mode": {
    "name": "ipython",
    "version": 3
   },
   "file_extension": ".py",
   "mimetype": "text/x-python",
   "name": "python",
   "nbconvert_exporter": "python",
   "pygments_lexer": "ipython3",
   "version": "3.6.1"
  }
 },
 "nbformat": 4,
 "nbformat_minor": 2
}
