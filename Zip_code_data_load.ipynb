{
 "cells": [
  {
   "cell_type": "code",
   "execution_count": 30,
   "metadata": {
    "collapsed": true
   },
   "outputs": [],
   "source": [
    "import csv\n",
    "import pandas as pd\n",
    "import numpy as np"
   ]
  },
  {
   "cell_type": "code",
   "execution_count": 31,
   "metadata": {
    "collapsed": true
   },
   "outputs": [],
   "source": [
    "states = pd.read_csv(\"data/zip_codes_states.csv\")"
   ]
  },
  {
   "cell_type": "code",
   "execution_count": 32,
   "metadata": {},
   "outputs": [
    {
     "data": {
      "text/html": [
       "<div>\n",
       "<style>\n",
       "    .dataframe thead tr:only-child th {\n",
       "        text-align: right;\n",
       "    }\n",
       "\n",
       "    .dataframe thead th {\n",
       "        text-align: left;\n",
       "    }\n",
       "\n",
       "    .dataframe tbody tr th {\n",
       "        vertical-align: top;\n",
       "    }\n",
       "</style>\n",
       "<table border=\"1\" class=\"dataframe\">\n",
       "  <thead>\n",
       "    <tr style=\"text-align: right;\">\n",
       "      <th></th>\n",
       "      <th>zip_code</th>\n",
       "      <th>latitude</th>\n",
       "      <th>longitude</th>\n",
       "      <th>city</th>\n",
       "      <th>state</th>\n",
       "      <th>county</th>\n",
       "    </tr>\n",
       "  </thead>\n",
       "  <tbody>\n",
       "    <tr>\n",
       "      <th>0</th>\n",
       "      <td>501</td>\n",
       "      <td>40.922326</td>\n",
       "      <td>-72.637078</td>\n",
       "      <td>Holtsville</td>\n",
       "      <td>NY</td>\n",
       "      <td>Suffolk</td>\n",
       "    </tr>\n",
       "    <tr>\n",
       "      <th>1</th>\n",
       "      <td>544</td>\n",
       "      <td>40.922326</td>\n",
       "      <td>-72.637078</td>\n",
       "      <td>Holtsville</td>\n",
       "      <td>NY</td>\n",
       "      <td>Suffolk</td>\n",
       "    </tr>\n",
       "    <tr>\n",
       "      <th>2</th>\n",
       "      <td>601</td>\n",
       "      <td>18.165273</td>\n",
       "      <td>-66.722583</td>\n",
       "      <td>Adjuntas</td>\n",
       "      <td>PR</td>\n",
       "      <td>Adjuntas</td>\n",
       "    </tr>\n",
       "    <tr>\n",
       "      <th>3</th>\n",
       "      <td>602</td>\n",
       "      <td>18.393103</td>\n",
       "      <td>-67.180953</td>\n",
       "      <td>Aguada</td>\n",
       "      <td>PR</td>\n",
       "      <td>Aguada</td>\n",
       "    </tr>\n",
       "    <tr>\n",
       "      <th>4</th>\n",
       "      <td>603</td>\n",
       "      <td>18.455913</td>\n",
       "      <td>-67.145780</td>\n",
       "      <td>Aguadilla</td>\n",
       "      <td>PR</td>\n",
       "      <td>Aguadilla</td>\n",
       "    </tr>\n",
       "  </tbody>\n",
       "</table>\n",
       "</div>"
      ],
      "text/plain": [
       "   zip_code   latitude  longitude        city state     county\n",
       "0       501  40.922326 -72.637078  Holtsville    NY    Suffolk\n",
       "1       544  40.922326 -72.637078  Holtsville    NY    Suffolk\n",
       "2       601  18.165273 -66.722583    Adjuntas    PR   Adjuntas\n",
       "3       602  18.393103 -67.180953      Aguada    PR     Aguada\n",
       "4       603  18.455913 -67.145780   Aguadilla    PR  Aguadilla"
      ]
     },
     "execution_count": 32,
     "metadata": {},
     "output_type": "execute_result"
    }
   ],
   "source": [
    "states.head()"
   ]
  },
  {
   "cell_type": "code",
   "execution_count": 45,
   "metadata": {},
   "outputs": [
    {
     "data": {
      "text/html": [
       "<div>\n",
       "<style>\n",
       "    .dataframe thead tr:only-child th {\n",
       "        text-align: right;\n",
       "    }\n",
       "\n",
       "    .dataframe thead th {\n",
       "        text-align: left;\n",
       "    }\n",
       "\n",
       "    .dataframe tbody tr th {\n",
       "        vertical-align: top;\n",
       "    }\n",
       "</style>\n",
       "<table border=\"1\" class=\"dataframe\">\n",
       "  <thead>\n",
       "    <tr style=\"text-align: right;\">\n",
       "      <th></th>\n",
       "      <th>zip_code</th>\n",
       "      <th>state</th>\n",
       "      <th>county</th>\n",
       "      <th>combine</th>\n",
       "    </tr>\n",
       "  </thead>\n",
       "  <tbody>\n",
       "    <tr>\n",
       "      <th>36991</th>\n",
       "      <td>85001</td>\n",
       "      <td>az</td>\n",
       "      <td>maricopa</td>\n",
       "      <td>maricopaaz</td>\n",
       "    </tr>\n",
       "    <tr>\n",
       "      <th>36992</th>\n",
       "      <td>85002</td>\n",
       "      <td>az</td>\n",
       "      <td>maricopa</td>\n",
       "      <td>maricopaaz</td>\n",
       "    </tr>\n",
       "    <tr>\n",
       "      <th>36993</th>\n",
       "      <td>85003</td>\n",
       "      <td>az</td>\n",
       "      <td>maricopa</td>\n",
       "      <td>maricopaaz</td>\n",
       "    </tr>\n",
       "    <tr>\n",
       "      <th>36994</th>\n",
       "      <td>85004</td>\n",
       "      <td>az</td>\n",
       "      <td>maricopa</td>\n",
       "      <td>maricopaaz</td>\n",
       "    </tr>\n",
       "    <tr>\n",
       "      <th>36995</th>\n",
       "      <td>85005</td>\n",
       "      <td>az</td>\n",
       "      <td>maricopa</td>\n",
       "      <td>maricopaaz</td>\n",
       "    </tr>\n",
       "  </tbody>\n",
       "</table>\n",
       "</div>"
      ],
      "text/plain": [
       "       zip_code state    county     combine\n",
       "36991     85001    az  maricopa  maricopaaz\n",
       "36992     85002    az  maricopa  maricopaaz\n",
       "36993     85003    az  maricopa  maricopaaz\n",
       "36994     85004    az  maricopa  maricopaaz\n",
       "36995     85005    az  maricopa  maricopaaz"
      ]
     },
     "execution_count": 45,
     "metadata": {},
     "output_type": "execute_result"
    }
   ],
   "source": [
    "az = states[states['state'] == 'AZ']\n",
    "pa = states[states['state'] == 'PA']\n",
    "nv = states[states['state'] == 'NV']\n",
    "nc = states[states['state'] == 'NC']\n",
    "il = states[states['state'] == 'IL']\n",
    "oh = states[states['state'] == 'OH'] \n",
    "states_df = pd.concat([az, pa, nv, nc, oh, il])\n",
    "states_df = states_df.iloc[:, [0, 4,5]]\n",
    "states_df['state'] = states_df['state'].str.lower()\n",
    "states_df['county'] = states_df['county'].str.lower()\n",
    "states_df['combine'] = states_df['county'] + states_df['state']\n",
    "states_df.head()"
   ]
  },
  {
   "cell_type": "code",
   "execution_count": null,
   "metadata": {
    "collapsed": true
   },
   "outputs": [],
   "source": []
  },
  {
   "cell_type": "code",
   "execution_count": 35,
   "metadata": {
    "collapsed": true
   },
   "outputs": [],
   "source": [
    "states_df.to_csv('data/zip_code_data2.csv', index = False)"
   ]
  },
  {
   "cell_type": "code",
   "execution_count": 52,
   "metadata": {},
   "outputs": [
    {
     "data": {
      "text/html": [
       "<div>\n",
       "<style>\n",
       "    .dataframe thead tr:only-child th {\n",
       "        text-align: right;\n",
       "    }\n",
       "\n",
       "    .dataframe thead th {\n",
       "        text-align: left;\n",
       "    }\n",
       "\n",
       "    .dataframe tbody tr th {\n",
       "        vertical-align: top;\n",
       "    }\n",
       "</style>\n",
       "<table border=\"1\" class=\"dataframe\">\n",
       "  <thead>\n",
       "    <tr style=\"text-align: right;\">\n",
       "      <th></th>\n",
       "      <th>zip_code</th>\n",
       "      <th>state</th>\n",
       "      <th>county</th>\n",
       "      <th>combine</th>\n",
       "    </tr>\n",
       "  </thead>\n",
       "  <tbody>\n",
       "    <tr>\n",
       "      <th>0</th>\n",
       "      <td>85001</td>\n",
       "      <td>az</td>\n",
       "      <td>maricopa</td>\n",
       "      <td>maricopaaz</td>\n",
       "    </tr>\n",
       "    <tr>\n",
       "      <th>1</th>\n",
       "      <td>85002</td>\n",
       "      <td>az</td>\n",
       "      <td>maricopa</td>\n",
       "      <td>maricopaaz</td>\n",
       "    </tr>\n",
       "    <tr>\n",
       "      <th>2</th>\n",
       "      <td>85003</td>\n",
       "      <td>az</td>\n",
       "      <td>maricopa</td>\n",
       "      <td>maricopaaz</td>\n",
       "    </tr>\n",
       "    <tr>\n",
       "      <th>3</th>\n",
       "      <td>85004</td>\n",
       "      <td>az</td>\n",
       "      <td>maricopa</td>\n",
       "      <td>maricopaaz</td>\n",
       "    </tr>\n",
       "    <tr>\n",
       "      <th>4</th>\n",
       "      <td>85005</td>\n",
       "      <td>az</td>\n",
       "      <td>maricopa</td>\n",
       "      <td>maricopaaz</td>\n",
       "    </tr>\n",
       "  </tbody>\n",
       "</table>\n",
       "</div>"
      ],
      "text/plain": [
       "   zip_code state    county     combine\n",
       "0     85001    az  maricopa  maricopaaz\n",
       "1     85002    az  maricopa  maricopaaz\n",
       "2     85003    az  maricopa  maricopaaz\n",
       "3     85004    az  maricopa  maricopaaz\n",
       "4     85005    az  maricopa  maricopaaz"
      ]
     },
     "execution_count": 52,
     "metadata": {},
     "output_type": "execute_result"
    }
   ],
   "source": [
    "new_states = pd.read_csv(\"data/zip_code_data2.csv\")\n",
    "new_states.head()"
   ]
  },
  {
   "cell_type": "code",
   "execution_count": 41,
   "metadata": {
    "collapsed": true
   },
   "outputs": [],
   "source": [
    "income = pd.read_csv('data/income_data.csv') "
   ]
  },
  {
   "cell_type": "code",
   "execution_count": 61,
   "metadata": {},
   "outputs": [
    {
     "data": {
      "text/html": [
       "<div>\n",
       "<style>\n",
       "    .dataframe thead tr:only-child th {\n",
       "        text-align: right;\n",
       "    }\n",
       "\n",
       "    .dataframe thead th {\n",
       "        text-align: left;\n",
       "    }\n",
       "\n",
       "    .dataframe tbody tr th {\n",
       "        vertical-align: top;\n",
       "    }\n",
       "</style>\n",
       "<table border=\"1\" class=\"dataframe\">\n",
       "  <thead>\n",
       "    <tr style=\"text-align: right;\">\n",
       "      <th></th>\n",
       "      <th>county</th>\n",
       "      <th>income</th>\n",
       "      <th>state</th>\n",
       "      <th>combine</th>\n",
       "    </tr>\n",
       "  </thead>\n",
       "  <tbody>\n",
       "    <tr>\n",
       "      <th>0</th>\n",
       "      <td>apache</td>\n",
       "      <td>44505</td>\n",
       "      <td>az</td>\n",
       "      <td>apacheaz</td>\n",
       "    </tr>\n",
       "    <tr>\n",
       "      <th>1</th>\n",
       "      <td>cochise</td>\n",
       "      <td>55174</td>\n",
       "      <td>az</td>\n",
       "      <td>cochiseaz</td>\n",
       "    </tr>\n",
       "    <tr>\n",
       "      <th>2</th>\n",
       "      <td>coconino</td>\n",
       "      <td>67297</td>\n",
       "      <td>az</td>\n",
       "      <td>coconinoaz</td>\n",
       "    </tr>\n",
       "    <tr>\n",
       "      <th>3</th>\n",
       "      <td>maricopa</td>\n",
       "      <td>81501</td>\n",
       "      <td>az</td>\n",
       "      <td>maricopaaz</td>\n",
       "    </tr>\n",
       "    <tr>\n",
       "      <th>4</th>\n",
       "      <td>mohave</td>\n",
       "      <td>57530</td>\n",
       "      <td>az</td>\n",
       "      <td>mohaveaz</td>\n",
       "    </tr>\n",
       "  </tbody>\n",
       "</table>\n",
       "</div>"
      ],
      "text/plain": [
       "     county  income state     combine\n",
       "0    apache   44505    az    apacheaz\n",
       "1   cochise   55174    az   cochiseaz\n",
       "2  coconino   67297    az  coconinoaz\n",
       "3  maricopa   81501    az  maricopaaz\n",
       "4    mohave   57530    az    mohaveaz"
      ]
     },
     "execution_count": 61,
     "metadata": {},
     "output_type": "execute_result"
    }
   ],
   "source": [
    "income.head()"
   ]
  },
  {
   "cell_type": "code",
   "execution_count": 48,
   "metadata": {
    "collapsed": true
   },
   "outputs": [],
   "source": [
    "income_zip = pd.merge(new_states, income, on = 'combine', how = 'left')"
   ]
  },
  {
   "cell_type": "code",
   "execution_count": 56,
   "metadata": {},
   "outputs": [
    {
     "data": {
      "text/html": [
       "<div>\n",
       "<style>\n",
       "    .dataframe thead tr:only-child th {\n",
       "        text-align: right;\n",
       "    }\n",
       "\n",
       "    .dataframe thead th {\n",
       "        text-align: left;\n",
       "    }\n",
       "\n",
       "    .dataframe tbody tr th {\n",
       "        vertical-align: top;\n",
       "    }\n",
       "</style>\n",
       "<table border=\"1\" class=\"dataframe\">\n",
       "  <thead>\n",
       "    <tr style=\"text-align: right;\">\n",
       "      <th></th>\n",
       "      <th>zip_code</th>\n",
       "      <th>state_x</th>\n",
       "      <th>county_x</th>\n",
       "      <th>combine</th>\n",
       "      <th>county_y</th>\n",
       "      <th>income</th>\n",
       "      <th>state_y</th>\n",
       "    </tr>\n",
       "  </thead>\n",
       "  <tbody>\n",
       "    <tr>\n",
       "      <th>0</th>\n",
       "      <td>85001</td>\n",
       "      <td>az</td>\n",
       "      <td>maricopa</td>\n",
       "      <td>maricopaaz</td>\n",
       "      <td>maricopa</td>\n",
       "      <td>81501.0</td>\n",
       "      <td>az</td>\n",
       "    </tr>\n",
       "    <tr>\n",
       "      <th>1</th>\n",
       "      <td>85002</td>\n",
       "      <td>az</td>\n",
       "      <td>maricopa</td>\n",
       "      <td>maricopaaz</td>\n",
       "      <td>maricopa</td>\n",
       "      <td>81501.0</td>\n",
       "      <td>az</td>\n",
       "    </tr>\n",
       "    <tr>\n",
       "      <th>2</th>\n",
       "      <td>85003</td>\n",
       "      <td>az</td>\n",
       "      <td>maricopa</td>\n",
       "      <td>maricopaaz</td>\n",
       "      <td>maricopa</td>\n",
       "      <td>81501.0</td>\n",
       "      <td>az</td>\n",
       "    </tr>\n",
       "    <tr>\n",
       "      <th>3</th>\n",
       "      <td>85004</td>\n",
       "      <td>az</td>\n",
       "      <td>maricopa</td>\n",
       "      <td>maricopaaz</td>\n",
       "      <td>maricopa</td>\n",
       "      <td>81501.0</td>\n",
       "      <td>az</td>\n",
       "    </tr>\n",
       "    <tr>\n",
       "      <th>4</th>\n",
       "      <td>85005</td>\n",
       "      <td>az</td>\n",
       "      <td>maricopa</td>\n",
       "      <td>maricopaaz</td>\n",
       "      <td>maricopa</td>\n",
       "      <td>81501.0</td>\n",
       "      <td>az</td>\n",
       "    </tr>\n",
       "  </tbody>\n",
       "</table>\n",
       "</div>"
      ],
      "text/plain": [
       "   zip_code state_x  county_x     combine  county_y   income state_y\n",
       "0     85001      az  maricopa  maricopaaz  maricopa  81501.0      az\n",
       "1     85002      az  maricopa  maricopaaz  maricopa  81501.0      az\n",
       "2     85003      az  maricopa  maricopaaz  maricopa  81501.0      az\n",
       "3     85004      az  maricopa  maricopaaz  maricopa  81501.0      az\n",
       "4     85005      az  maricopa  maricopaaz  maricopa  81501.0      az"
      ]
     },
     "execution_count": 56,
     "metadata": {},
     "output_type": "execute_result"
    }
   ],
   "source": [
    "income_states = income_zip.dropna()\n",
    "income_states.head()"
   ]
  },
  {
   "cell_type": "code",
   "execution_count": 57,
   "metadata": {
    "collapsed": true
   },
   "outputs": [],
   "source": [
    "income_states = income_states.iloc[:,[0, 1,2,3,5]]\n"
   ]
  },
  {
   "cell_type": "code",
   "execution_count": 60,
   "metadata": {},
   "outputs": [
    {
     "data": {
      "text/plain": [
       "4742"
      ]
     },
     "execution_count": 60,
     "metadata": {},
     "output_type": "execute_result"
    }
   ],
   "source": [
    "len(income_states['zip_code'].tolist())"
   ]
  },
  {
   "cell_type": "code",
   "execution_count": 59,
   "metadata": {
    "collapsed": true
   },
   "outputs": [],
   "source": [
    "income_states.to_csv('data/income_zipcode.csv', index = False)"
   ]
  },
  {
   "cell_type": "code",
   "execution_count": null,
   "metadata": {
    "collapsed": true
   },
   "outputs": [],
   "source": []
  }
 ],
 "metadata": {
  "kernelspec": {
   "display_name": "Python 3",
   "language": "python",
   "name": "python3"
  },
  "language_info": {
   "codemirror_mode": {
    "name": "ipython",
    "version": 3
   },
   "file_extension": ".py",
   "mimetype": "text/x-python",
   "name": "python",
   "nbconvert_exporter": "python",
   "pygments_lexer": "ipython3",
   "version": "3.6.1"
  }
 },
 "nbformat": 4,
 "nbformat_minor": 2
}
