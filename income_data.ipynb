{
 "cells": [
  {
   "cell_type": "code",
   "execution_count": 2,
   "metadata": {
    "collapsed": true
   },
   "outputs": [],
   "source": [
    "import csv\n",
    "import pandas as pd\n",
    "import numpy as np"
   ]
  },
  {
   "cell_type": "code",
   "execution_count": 3,
   "metadata": {
    "collapsed": true
   },
   "outputs": [],
   "source": [
    "income_location = []\n",
    "income_mean = []\n",
    "with open('data/income.csv', \"rt\", encoding= 'utf8') as csvfile:\n",
    "    county_income = csv.reader(csvfile, delimiter=',')\n",
    "\n",
    "    for line in county_income:\n",
    "        income_location.append(line[2])\n",
    "        income_mean.append(line[5])\n"
   ]
  },
  {
   "cell_type": "code",
   "execution_count": 4,
   "metadata": {},
   "outputs": [
    {
     "data": {
      "text/html": [
       "<div>\n",
       "<style>\n",
       "    .dataframe thead tr:only-child th {\n",
       "        text-align: right;\n",
       "    }\n",
       "\n",
       "    .dataframe thead th {\n",
       "        text-align: left;\n",
       "    }\n",
       "\n",
       "    .dataframe tbody tr th {\n",
       "        vertical-align: top;\n",
       "    }\n",
       "</style>\n",
       "<table border=\"1\" class=\"dataframe\">\n",
       "  <thead>\n",
       "    <tr style=\"text-align: right;\">\n",
       "      <th></th>\n",
       "      <th>county</th>\n",
       "      <th>income</th>\n",
       "      <th>state</th>\n",
       "    </tr>\n",
       "  </thead>\n",
       "  <tbody>\n",
       "    <tr>\n",
       "      <th>0</th>\n",
       "      <td>Baldwin County</td>\n",
       "      <td>74892</td>\n",
       "      <td>Alabama</td>\n",
       "    </tr>\n",
       "    <tr>\n",
       "      <th>1</th>\n",
       "      <td>Calhoun County</td>\n",
       "      <td>58992</td>\n",
       "      <td>Alabama</td>\n",
       "    </tr>\n",
       "    <tr>\n",
       "      <th>2</th>\n",
       "      <td>Cullman County</td>\n",
       "      <td>54412</td>\n",
       "      <td>Alabama</td>\n",
       "    </tr>\n",
       "    <tr>\n",
       "      <th>3</th>\n",
       "      <td>DeKalb County</td>\n",
       "      <td>48529</td>\n",
       "      <td>Alabama</td>\n",
       "    </tr>\n",
       "    <tr>\n",
       "      <th>4</th>\n",
       "      <td>Elmore County</td>\n",
       "      <td>71553</td>\n",
       "      <td>Alabama</td>\n",
       "    </tr>\n",
       "  </tbody>\n",
       "</table>\n",
       "</div>"
      ],
      "text/plain": [
       "           county income    state\n",
       "0  Baldwin County  74892  Alabama\n",
       "1  Calhoun County  58992  Alabama\n",
       "2  Cullman County  54412  Alabama\n",
       "3   DeKalb County  48529  Alabama\n",
       "4   Elmore County  71553  Alabama"
      ]
     },
     "execution_count": 4,
     "metadata": {},
     "output_type": "execute_result"
    }
   ],
   "source": [
    "county = []\n",
    "state = []\n",
    "for word in income_location[1:]:\n",
    "    word = word.split(\", \")\n",
    "    #print(word[0])\n",
    "    \n",
    "    county.append(word[0])\n",
    "    state.append(word[1])\n",
    "d ={'county' : county, 'state' : state, 'income' : income_mean[1:]}\n",
    "df = pd.DataFrame(data = d)\n",
    "df.head()"
   ]
  },
  {
   "cell_type": "code",
   "execution_count": 23,
   "metadata": {},
   "outputs": [
    {
     "data": {
      "text/html": [
       "<div>\n",
       "<style>\n",
       "    .dataframe thead tr:only-child th {\n",
       "        text-align: right;\n",
       "    }\n",
       "\n",
       "    .dataframe thead th {\n",
       "        text-align: left;\n",
       "    }\n",
       "\n",
       "    .dataframe tbody tr th {\n",
       "        vertical-align: top;\n",
       "    }\n",
       "</style>\n",
       "<table border=\"1\" class=\"dataframe\">\n",
       "  <thead>\n",
       "    <tr style=\"text-align: right;\">\n",
       "      <th></th>\n",
       "      <th>county</th>\n",
       "      <th>income</th>\n",
       "      <th>state</th>\n",
       "    </tr>\n",
       "  </thead>\n",
       "  <tbody>\n",
       "    <tr>\n",
       "      <th>24</th>\n",
       "      <td>Apache County</td>\n",
       "      <td>44505</td>\n",
       "      <td>Arizona</td>\n",
       "    </tr>\n",
       "    <tr>\n",
       "      <th>25</th>\n",
       "      <td>Cochise County</td>\n",
       "      <td>55174</td>\n",
       "      <td>Arizona</td>\n",
       "    </tr>\n",
       "    <tr>\n",
       "      <th>26</th>\n",
       "      <td>Coconino County</td>\n",
       "      <td>67297</td>\n",
       "      <td>Arizona</td>\n",
       "    </tr>\n",
       "    <tr>\n",
       "      <th>27</th>\n",
       "      <td>Maricopa County</td>\n",
       "      <td>81501</td>\n",
       "      <td>Arizona</td>\n",
       "    </tr>\n",
       "    <tr>\n",
       "      <th>28</th>\n",
       "      <td>Mohave County</td>\n",
       "      <td>57530</td>\n",
       "      <td>Arizona</td>\n",
       "    </tr>\n",
       "  </tbody>\n",
       "</table>\n",
       "</div>"
      ],
      "text/plain": [
       "             county income    state\n",
       "24    Apache County  44505  Arizona\n",
       "25   Cochise County  55174  Arizona\n",
       "26  Coconino County  67297  Arizona\n",
       "27  Maricopa County  81501  Arizona\n",
       "28    Mohave County  57530  Arizona"
      ]
     },
     "execution_count": 23,
     "metadata": {},
     "output_type": "execute_result"
    }
   ],
   "source": [
    "AZ = df[df['state'] == 'Arizona']\n",
    "PA = df[df['state'] == 'Pennsylvania']\n",
    "NV = df[df['state'] == 'Nevada']\n",
    "NC = df[df['state'] == 'North Carolina']\n",
    "OH = df[df['state'] =='Ohio']\n",
    "IL = df[df['state'] == 'Illinois']\n",
    "income_df = pd.concat([AZ, PA, NV, NC, OH, IL])\n",
    "income_df.head()            "
   ]
  },
  {
   "cell_type": "code",
   "execution_count": 21,
   "metadata": {},
   "outputs": [
    {
     "data": {
      "text/html": [
       "<div>\n",
       "<style>\n",
       "    .dataframe thead tr:only-child th {\n",
       "        text-align: right;\n",
       "    }\n",
       "\n",
       "    .dataframe thead th {\n",
       "        text-align: left;\n",
       "    }\n",
       "\n",
       "    .dataframe tbody tr th {\n",
       "        vertical-align: top;\n",
       "    }\n",
       "</style>\n",
       "<table border=\"1\" class=\"dataframe\">\n",
       "  <thead>\n",
       "    <tr style=\"text-align: right;\">\n",
       "      <th></th>\n",
       "      <th>county</th>\n",
       "      <th>income</th>\n",
       "      <th>state</th>\n",
       "      <th>combine</th>\n",
       "    </tr>\n",
       "  </thead>\n",
       "  <tbody>\n",
       "    <tr>\n",
       "      <th>24</th>\n",
       "      <td>apache</td>\n",
       "      <td>44505</td>\n",
       "      <td>az</td>\n",
       "      <td>apacheaz</td>\n",
       "    </tr>\n",
       "    <tr>\n",
       "      <th>25</th>\n",
       "      <td>cochise</td>\n",
       "      <td>55174</td>\n",
       "      <td>az</td>\n",
       "      <td>cochiseaz</td>\n",
       "    </tr>\n",
       "    <tr>\n",
       "      <th>26</th>\n",
       "      <td>coconino</td>\n",
       "      <td>67297</td>\n",
       "      <td>az</td>\n",
       "      <td>coconinoaz</td>\n",
       "    </tr>\n",
       "    <tr>\n",
       "      <th>27</th>\n",
       "      <td>maricopa</td>\n",
       "      <td>81501</td>\n",
       "      <td>az</td>\n",
       "      <td>maricopaaz</td>\n",
       "    </tr>\n",
       "    <tr>\n",
       "      <th>28</th>\n",
       "      <td>mohave</td>\n",
       "      <td>57530</td>\n",
       "      <td>az</td>\n",
       "      <td>mohaveaz</td>\n",
       "    </tr>\n",
       "  </tbody>\n",
       "</table>\n",
       "</div>"
      ],
      "text/plain": [
       "      county income state     combine\n",
       "24    apache  44505    az    apacheaz\n",
       "25   cochise  55174    az   cochiseaz\n",
       "26  coconino  67297    az  coconinoaz\n",
       "27  maricopa  81501    az  maricopaaz\n",
       "28    mohave  57530    az    mohaveaz"
      ]
     },
     "execution_count": 21,
     "metadata": {},
     "output_type": "execute_result"
    }
   ],
   "source": [
    "replace = {'Arizona': 'az', 'Pennsylvania': 'pa', 'Nevada': 'nv', 'North Carolina': 'nc', \n",
    "          'Ohio': 'oh', 'Illinois': 'il'}\n",
    "income_df.replace(replace, inplace = True)\n",
    "income_df.head()"
   ]
  },
  {
   "cell_type": "code",
   "execution_count": 22,
   "metadata": {},
   "outputs": [
    {
     "data": {
      "text/html": [
       "<div>\n",
       "<style>\n",
       "    .dataframe thead tr:only-child th {\n",
       "        text-align: right;\n",
       "    }\n",
       "\n",
       "    .dataframe thead th {\n",
       "        text-align: left;\n",
       "    }\n",
       "\n",
       "    .dataframe tbody tr th {\n",
       "        vertical-align: top;\n",
       "    }\n",
       "</style>\n",
       "<table border=\"1\" class=\"dataframe\">\n",
       "  <thead>\n",
       "    <tr style=\"text-align: right;\">\n",
       "      <th></th>\n",
       "      <th>county</th>\n",
       "      <th>income</th>\n",
       "      <th>state</th>\n",
       "      <th>combine</th>\n",
       "    </tr>\n",
       "  </thead>\n",
       "  <tbody>\n",
       "    <tr>\n",
       "      <th>24</th>\n",
       "      <td>apache</td>\n",
       "      <td>44505</td>\n",
       "      <td>az</td>\n",
       "      <td>apacheaz</td>\n",
       "    </tr>\n",
       "    <tr>\n",
       "      <th>25</th>\n",
       "      <td>cochise</td>\n",
       "      <td>55174</td>\n",
       "      <td>az</td>\n",
       "      <td>cochiseaz</td>\n",
       "    </tr>\n",
       "    <tr>\n",
       "      <th>26</th>\n",
       "      <td>coconino</td>\n",
       "      <td>67297</td>\n",
       "      <td>az</td>\n",
       "      <td>coconinoaz</td>\n",
       "    </tr>\n",
       "    <tr>\n",
       "      <th>27</th>\n",
       "      <td>maricopa</td>\n",
       "      <td>81501</td>\n",
       "      <td>az</td>\n",
       "      <td>maricopaaz</td>\n",
       "    </tr>\n",
       "    <tr>\n",
       "      <th>28</th>\n",
       "      <td>mohave</td>\n",
       "      <td>57530</td>\n",
       "      <td>az</td>\n",
       "      <td>mohaveaz</td>\n",
       "    </tr>\n",
       "  </tbody>\n",
       "</table>\n",
       "</div>"
      ],
      "text/plain": [
       "      county income state     combine\n",
       "24    apache  44505    az    apacheaz\n",
       "25   cochise  55174    az   cochiseaz\n",
       "26  coconino  67297    az  coconinoaz\n",
       "27  maricopa  81501    az  maricopaaz\n",
       "28    mohave  57530    az    mohaveaz"
      ]
     },
     "execution_count": 22,
     "metadata": {},
     "output_type": "execute_result"
    }
   ],
   "source": [
    "for i, row in income_df.iterrows():\n",
    "    row[0] = row[0].split(\" County\")[0]\n",
    "\n",
    "income_df['county'] = income_df['county'].str.lower()\n",
    "income_df['combine'] = income_df['county'] + income_df['state']\n",
    "income_df.head()"
   ]
  },
  {
   "cell_type": "code",
   "execution_count": 20,
   "metadata": {
    "collapsed": true
   },
   "outputs": [],
   "source": [
    "income_df.to_csv('data/income_data.csv', index = False)"
   ]
  },
  {
   "cell_type": "code",
   "execution_count": null,
   "metadata": {
    "collapsed": true
   },
   "outputs": [],
   "source": []
  }
 ],
 "metadata": {
  "kernelspec": {
   "display_name": "Python 3",
   "language": "python",
   "name": "python3"
  },
  "language_info": {
   "codemirror_mode": {
    "name": "ipython",
    "version": 3
   },
   "file_extension": ".py",
   "mimetype": "text/x-python",
   "name": "python",
   "nbconvert_exporter": "python",
   "pygments_lexer": "ipython3",
   "version": "3.6.1"
  }
 },
 "nbformat": 4,
 "nbformat_minor": 2
}
